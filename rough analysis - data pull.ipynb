{
 "cells": [
  {
   "cell_type": "markdown",
   "id": "70729e93",
   "metadata": {},
   "source": [
    "##### importing libraries\n",
    "import pandas as pd \n",
    "import numpy as np\n",
    "import matplotlib.pyplot as plt\n",
    "import seaborn as sns\n",
    "from sklearn import linear_model"
   ]
  },
  {
   "cell_type": "code",
   "execution_count": 3,
   "id": "8e759113",
   "metadata": {},
   "outputs": [
    {
     "data": {
      "text/html": [
       "<div>\n",
       "<style scoped>\n",
       "    .dataframe tbody tr th:only-of-type {\n",
       "        vertical-align: middle;\n",
       "    }\n",
       "\n",
       "    .dataframe tbody tr th {\n",
       "        vertical-align: top;\n",
       "    }\n",
       "\n",
       "    .dataframe thead th {\n",
       "        text-align: right;\n",
       "    }\n",
       "</style>\n",
       "<table border=\"1\" class=\"dataframe\">\n",
       "  <thead>\n",
       "    <tr style=\"text-align: right;\">\n",
       "      <th></th>\n",
       "      <th>Pregnancies</th>\n",
       "      <th>Glucose</th>\n",
       "      <th>BloodPressure</th>\n",
       "      <th>SkinThickness</th>\n",
       "      <th>Insulin</th>\n",
       "      <th>BMI</th>\n",
       "      <th>DiabetesPedigreeFunction</th>\n",
       "      <th>Age</th>\n",
       "      <th>Outcome</th>\n",
       "    </tr>\n",
       "  </thead>\n",
       "  <tbody>\n",
       "    <tr>\n",
       "      <th>0</th>\n",
       "      <td>6</td>\n",
       "      <td>148</td>\n",
       "      <td>72</td>\n",
       "      <td>35</td>\n",
       "      <td>0</td>\n",
       "      <td>33.6</td>\n",
       "      <td>0.627</td>\n",
       "      <td>50</td>\n",
       "      <td>1</td>\n",
       "    </tr>\n",
       "    <tr>\n",
       "      <th>1</th>\n",
       "      <td>1</td>\n",
       "      <td>85</td>\n",
       "      <td>66</td>\n",
       "      <td>29</td>\n",
       "      <td>0</td>\n",
       "      <td>26.6</td>\n",
       "      <td>0.351</td>\n",
       "      <td>31</td>\n",
       "      <td>0</td>\n",
       "    </tr>\n",
       "    <tr>\n",
       "      <th>2</th>\n",
       "      <td>8</td>\n",
       "      <td>183</td>\n",
       "      <td>64</td>\n",
       "      <td>0</td>\n",
       "      <td>0</td>\n",
       "      <td>23.3</td>\n",
       "      <td>0.672</td>\n",
       "      <td>32</td>\n",
       "      <td>1</td>\n",
       "    </tr>\n",
       "    <tr>\n",
       "      <th>3</th>\n",
       "      <td>1</td>\n",
       "      <td>89</td>\n",
       "      <td>66</td>\n",
       "      <td>23</td>\n",
       "      <td>94</td>\n",
       "      <td>28.1</td>\n",
       "      <td>0.167</td>\n",
       "      <td>21</td>\n",
       "      <td>0</td>\n",
       "    </tr>\n",
       "    <tr>\n",
       "      <th>4</th>\n",
       "      <td>0</td>\n",
       "      <td>137</td>\n",
       "      <td>40</td>\n",
       "      <td>35</td>\n",
       "      <td>168</td>\n",
       "      <td>43.1</td>\n",
       "      <td>2.288</td>\n",
       "      <td>33</td>\n",
       "      <td>1</td>\n",
       "    </tr>\n",
       "    <tr>\n",
       "      <th>5</th>\n",
       "      <td>5</td>\n",
       "      <td>116</td>\n",
       "      <td>74</td>\n",
       "      <td>0</td>\n",
       "      <td>0</td>\n",
       "      <td>25.6</td>\n",
       "      <td>0.201</td>\n",
       "      <td>30</td>\n",
       "      <td>0</td>\n",
       "    </tr>\n",
       "    <tr>\n",
       "      <th>6</th>\n",
       "      <td>3</td>\n",
       "      <td>78</td>\n",
       "      <td>50</td>\n",
       "      <td>32</td>\n",
       "      <td>88</td>\n",
       "      <td>31.0</td>\n",
       "      <td>0.248</td>\n",
       "      <td>26</td>\n",
       "      <td>1</td>\n",
       "    </tr>\n",
       "    <tr>\n",
       "      <th>7</th>\n",
       "      <td>10</td>\n",
       "      <td>115</td>\n",
       "      <td>0</td>\n",
       "      <td>0</td>\n",
       "      <td>0</td>\n",
       "      <td>35.3</td>\n",
       "      <td>0.134</td>\n",
       "      <td>29</td>\n",
       "      <td>0</td>\n",
       "    </tr>\n",
       "    <tr>\n",
       "      <th>8</th>\n",
       "      <td>2</td>\n",
       "      <td>197</td>\n",
       "      <td>70</td>\n",
       "      <td>45</td>\n",
       "      <td>543</td>\n",
       "      <td>30.5</td>\n",
       "      <td>0.158</td>\n",
       "      <td>53</td>\n",
       "      <td>1</td>\n",
       "    </tr>\n",
       "    <tr>\n",
       "      <th>9</th>\n",
       "      <td>8</td>\n",
       "      <td>125</td>\n",
       "      <td>96</td>\n",
       "      <td>0</td>\n",
       "      <td>0</td>\n",
       "      <td>0.0</td>\n",
       "      <td>0.232</td>\n",
       "      <td>54</td>\n",
       "      <td>1</td>\n",
       "    </tr>\n",
       "  </tbody>\n",
       "</table>\n",
       "</div>"
      ],
      "text/plain": [
       "   Pregnancies  Glucose  BloodPressure  SkinThickness  Insulin   BMI  \\\n",
       "0            6      148             72             35        0  33.6   \n",
       "1            1       85             66             29        0  26.6   \n",
       "2            8      183             64              0        0  23.3   \n",
       "3            1       89             66             23       94  28.1   \n",
       "4            0      137             40             35      168  43.1   \n",
       "5            5      116             74              0        0  25.6   \n",
       "6            3       78             50             32       88  31.0   \n",
       "7           10      115              0              0        0  35.3   \n",
       "8            2      197             70             45      543  30.5   \n",
       "9            8      125             96              0        0   0.0   \n",
       "\n",
       "   DiabetesPedigreeFunction  Age  Outcome  \n",
       "0                     0.627   50        1  \n",
       "1                     0.351   31        0  \n",
       "2                     0.672   32        1  \n",
       "3                     0.167   21        0  \n",
       "4                     2.288   33        1  \n",
       "5                     0.201   30        0  \n",
       "6                     0.248   26        1  \n",
       "7                     0.134   29        0  \n",
       "8                     0.158   53        1  \n",
       "9                     0.232   54        1  "
      ]
     },
     "execution_count": 3,
     "metadata": {},
     "output_type": "execute_result"
    }
   ],
   "source": [
    "diabetes = pd.read_csv('diabetes.csv') # reading the  csv\n",
    "diabetes.head(10) # we are reading 10 records "
   ]
  },
  {
   "cell_type": "code",
   "execution_count": 4,
   "id": "ff25b5c9",
   "metadata": {},
   "outputs": [
    {
     "data": {
      "text/plain": [
       "(768, 9)"
      ]
     },
     "execution_count": 4,
     "metadata": {},
     "output_type": "execute_result"
    }
   ],
   "source": [
    "# finding rows and columns\n",
    "diabetes.shape"
   ]
  },
  {
   "cell_type": "code",
   "execution_count": 5,
   "id": "155843ec",
   "metadata": {},
   "outputs": [
    {
     "data": {
      "text/plain": [
       "0    72\n",
       "1    66\n",
       "Name: BloodPressure, dtype: int64"
      ]
     },
     "execution_count": 5,
     "metadata": {},
     "output_type": "execute_result"
    }
   ],
   "source": [
    "diabetes.iloc[[0,1], 2]"
   ]
  },
  {
   "cell_type": "code",
   "execution_count": 6,
   "id": "a8741cfc",
   "metadata": {},
   "outputs": [
    {
     "data": {
      "text/plain": [
       "0    500\n",
       "1    268\n",
       "Name: Outcome, dtype: int64"
      ]
     },
     "execution_count": 6,
     "metadata": {},
     "output_type": "execute_result"
    }
   ],
   "source": [
    "diabetes['Outcome'].value_counts()"
   ]
  },
  {
   "cell_type": "code",
   "execution_count": 7,
   "id": "0b1eecab",
   "metadata": {},
   "outputs": [
    {
     "data": {
      "text/plain": [
       "Pregnancies                   4.000\n",
       "Glucose                     110.000\n",
       "BloodPressure                92.000\n",
       "SkinThickness                 0.000\n",
       "Insulin                       0.000\n",
       "BMI                          37.600\n",
       "DiabetesPedigreeFunction      0.191\n",
       "Age                          30.000\n",
       "Outcome                       0.000\n",
       "Name: 10, dtype: float64"
      ]
     },
     "execution_count": 7,
     "metadata": {},
     "output_type": "execute_result"
    }
   ],
   "source": [
    "diabetes.loc[10]"
   ]
  },
  {
   "cell_type": "code",
   "execution_count": 8,
   "id": "4f59c5b5",
   "metadata": {},
   "outputs": [
    {
     "data": {
      "text/plain": [
       "Pregnancies                 0\n",
       "Glucose                     0\n",
       "BloodPressure               0\n",
       "SkinThickness               0\n",
       "Insulin                     0\n",
       "BMI                         0\n",
       "DiabetesPedigreeFunction    0\n",
       "Age                         0\n",
       "Outcome                     0\n",
       "dtype: int64"
      ]
     },
     "execution_count": 8,
     "metadata": {},
     "output_type": "execute_result"
    }
   ],
   "source": [
    "diabetes.isnull().sum()"
   ]
  },
  {
   "cell_type": "code",
   "execution_count": 9,
   "id": "7cf5a9ff",
   "metadata": {
    "scrolled": true
   },
   "outputs": [
    {
     "data": {
      "text/plain": [
       "22    72\n",
       "21    63\n",
       "25    48\n",
       "24    46\n",
       "23    38\n",
       "28    35\n",
       "26    33\n",
       "27    32\n",
       "29    29\n",
       "31    24\n",
       "41    22\n",
       "30    21\n",
       "37    19\n",
       "42    18\n",
       "33    17\n",
       "38    16\n",
       "36    16\n",
       "32    16\n",
       "45    15\n",
       "34    14\n",
       "40    13\n",
       "43    13\n",
       "46    13\n",
       "39    12\n",
       "35    10\n",
       "52     8\n",
       "44     8\n",
       "50     8\n",
       "51     8\n",
       "58     7\n",
       "54     6\n",
       "47     6\n",
       "53     5\n",
       "60     5\n",
       "49     5\n",
       "57     5\n",
       "48     5\n",
       "66     4\n",
       "62     4\n",
       "63     4\n",
       "55     4\n",
       "59     3\n",
       "56     3\n",
       "65     3\n",
       "67     3\n",
       "61     2\n",
       "69     2\n",
       "64     1\n",
       "68     1\n",
       "70     1\n",
       "72     1\n",
       "81     1\n",
       "Name: Age, dtype: int64"
      ]
     },
     "execution_count": 9,
     "metadata": {},
     "output_type": "execute_result"
    }
   ],
   "source": [
    "ages= diabetes['Age'].value_counts()\n",
    "ages"
   ]
  },
  {
   "cell_type": "code",
   "execution_count": 10,
   "id": "5490bf0b",
   "metadata": {
    "scrolled": true
   },
   "outputs": [
    {
     "data": {
      "text/plain": [
       "1     135\n",
       "0     111\n",
       "2     103\n",
       "3      75\n",
       "4      68\n",
       "5      57\n",
       "6      50\n",
       "7      45\n",
       "8      38\n",
       "9      28\n",
       "10     24\n",
       "11     11\n",
       "13     10\n",
       "12      9\n",
       "14      2\n",
       "15      1\n",
       "17      1\n",
       "Name: Pregnancies, dtype: int64"
      ]
     },
     "execution_count": 10,
     "metadata": {},
     "output_type": "execute_result"
    }
   ],
   "source": [
    "preg_values = diabetes['Pregnancies'].value_counts()\n",
    "preg_values"
   ]
  },
  {
   "cell_type": "code",
   "execution_count": 11,
   "id": "3dc5a874",
   "metadata": {},
   "outputs": [
    {
     "data": {
      "text/plain": [
       "<AxesSubplot:ylabel='Pregnancies'>"
      ]
     },
     "execution_count": 11,
     "metadata": {},
     "output_type": "execute_result"
    },
    {
     "data": {
      "image/png": "[encoded data removed]",
      "text/plain": [
       "<Figure size 432x288 with 1 Axes>"
      ]
     },
     "metadata": {
      "needs_background": "light"
     },
     "output_type": "display_data"
    }
   ],
   "source": [
    "sns.barplot(x=preg_values.index, y=preg_values)"
   ]
  },
  {
   "cell_type": "code",
   "execution_count": 12,
   "id": "4dc7c352",
   "metadata": {},
   "outputs": [
    {
     "data": {
      "text/plain": [
       "Text(0, 0.5, 'PREGNANCIES')"
      ]
     },
     "execution_count": 12,
     "metadata": {},
     "output_type": "execute_result"
    },
    {
     "data": {
      "image/png": "[encoded data removed]",
      "text/plain": [
       "<Figure size 576x396 with 1 Axes>"
      ]
     },
     "metadata": {},
     "output_type": "display_data"
    }
   ],
   "source": [
    "plt.style.use('seaborn')\n",
    "plt.bar(diabetes['Age'],diabetes['Pregnancies'])\n",
    "plt.xlabel('AGE')\n",
    "plt.ylabel('PREGNANCIES')"
   ]
  },
  {
   "cell_type": "code",
   "execution_count": 13,
   "id": "b7882c1f",
   "metadata": {
    "scrolled": false
   },
   "outputs": [
    {
     "data": {
      "text/html": [
       "<div>\n",
       "<style scoped>\n",
       "    .dataframe tbody tr th:only-of-type {\n",
       "        vertical-align: middle;\n",
       "    }\n",
       "\n",
       "    .dataframe tbody tr th {\n",
       "        vertical-align: top;\n",
       "    }\n",
       "\n",
       "    .dataframe thead th {\n",
       "        text-align: right;\n",
       "    }\n",
       "</style>\n",
       "<table border=\"1\" class=\"dataframe\">\n",
       "  <thead>\n",
       "    <tr style=\"text-align: right;\">\n",
       "      <th></th>\n",
       "      <th>Pregnancies</th>\n",
       "      <th>Glucose</th>\n",
       "      <th>BloodPressure</th>\n",
       "      <th>SkinThickness</th>\n",
       "      <th>Insulin</th>\n",
       "      <th>BMI</th>\n",
       "      <th>DiabetesPedigreeFunction</th>\n",
       "      <th>Age</th>\n",
       "      <th>Outcome</th>\n",
       "    </tr>\n",
       "  </thead>\n",
       "  <tbody>\n",
       "    <tr>\n",
       "      <th>0</th>\n",
       "      <td>6</td>\n",
       "      <td>148</td>\n",
       "      <td>72</td>\n",
       "      <td>35</td>\n",
       "      <td>0</td>\n",
       "      <td>33.6</td>\n",
       "      <td>0.627</td>\n",
       "      <td>50</td>\n",
       "      <td>1</td>\n",
       "    </tr>\n",
       "    <tr>\n",
       "      <th>1</th>\n",
       "      <td>1</td>\n",
       "      <td>85</td>\n",
       "      <td>66</td>\n",
       "      <td>29</td>\n",
       "      <td>0</td>\n",
       "      <td>26.6</td>\n",
       "      <td>0.351</td>\n",
       "      <td>31</td>\n",
       "      <td>0</td>\n",
       "    </tr>\n",
       "    <tr>\n",
       "      <th>2</th>\n",
       "      <td>8</td>\n",
       "      <td>183</td>\n",
       "      <td>64</td>\n",
       "      <td>0</td>\n",
       "      <td>0</td>\n",
       "      <td>23.3</td>\n",
       "      <td>0.672</td>\n",
       "      <td>32</td>\n",
       "      <td>1</td>\n",
       "    </tr>\n",
       "    <tr>\n",
       "      <th>5</th>\n",
       "      <td>5</td>\n",
       "      <td>116</td>\n",
       "      <td>74</td>\n",
       "      <td>0</td>\n",
       "      <td>0</td>\n",
       "      <td>25.6</td>\n",
       "      <td>0.201</td>\n",
       "      <td>30</td>\n",
       "      <td>0</td>\n",
       "    </tr>\n",
       "    <tr>\n",
       "      <th>7</th>\n",
       "      <td>10</td>\n",
       "      <td>115</td>\n",
       "      <td>0</td>\n",
       "      <td>0</td>\n",
       "      <td>0</td>\n",
       "      <td>35.3</td>\n",
       "      <td>0.134</td>\n",
       "      <td>29</td>\n",
       "      <td>0</td>\n",
       "    </tr>\n",
       "    <tr>\n",
       "      <th>...</th>\n",
       "      <td>...</td>\n",
       "      <td>...</td>\n",
       "      <td>...</td>\n",
       "      <td>...</td>\n",
       "      <td>...</td>\n",
       "      <td>...</td>\n",
       "      <td>...</td>\n",
       "      <td>...</td>\n",
       "      <td>...</td>\n",
       "    </tr>\n",
       "    <tr>\n",
       "      <th>761</th>\n",
       "      <td>9</td>\n",
       "      <td>170</td>\n",
       "      <td>74</td>\n",
       "      <td>31</td>\n",
       "      <td>0</td>\n",
       "      <td>44.0</td>\n",
       "      <td>0.403</td>\n",
       "      <td>43</td>\n",
       "      <td>1</td>\n",
       "    </tr>\n",
       "    <tr>\n",
       "      <th>762</th>\n",
       "      <td>9</td>\n",
       "      <td>89</td>\n",
       "      <td>62</td>\n",
       "      <td>0</td>\n",
       "      <td>0</td>\n",
       "      <td>22.5</td>\n",
       "      <td>0.142</td>\n",
       "      <td>33</td>\n",
       "      <td>0</td>\n",
       "    </tr>\n",
       "    <tr>\n",
       "      <th>764</th>\n",
       "      <td>2</td>\n",
       "      <td>122</td>\n",
       "      <td>70</td>\n",
       "      <td>27</td>\n",
       "      <td>0</td>\n",
       "      <td>36.8</td>\n",
       "      <td>0.340</td>\n",
       "      <td>27</td>\n",
       "      <td>0</td>\n",
       "    </tr>\n",
       "    <tr>\n",
       "      <th>766</th>\n",
       "      <td>1</td>\n",
       "      <td>126</td>\n",
       "      <td>60</td>\n",
       "      <td>0</td>\n",
       "      <td>0</td>\n",
       "      <td>30.1</td>\n",
       "      <td>0.349</td>\n",
       "      <td>47</td>\n",
       "      <td>1</td>\n",
       "    </tr>\n",
       "    <tr>\n",
       "      <th>767</th>\n",
       "      <td>1</td>\n",
       "      <td>93</td>\n",
       "      <td>70</td>\n",
       "      <td>31</td>\n",
       "      <td>0</td>\n",
       "      <td>30.4</td>\n",
       "      <td>0.315</td>\n",
       "      <td>23</td>\n",
       "      <td>0</td>\n",
       "    </tr>\n",
       "  </tbody>\n",
       "</table>\n",
       "<p>374 rows × 9 columns</p>\n",
       "</div>"
      ],
      "text/plain": [
       "     Pregnancies  Glucose  BloodPressure  SkinThickness  Insulin   BMI  \\\n",
       "0              6      148             72             35        0  33.6   \n",
       "1              1       85             66             29        0  26.6   \n",
       "2              8      183             64              0        0  23.3   \n",
       "5              5      116             74              0        0  25.6   \n",
       "7             10      115              0              0        0  35.3   \n",
       "..           ...      ...            ...            ...      ...   ...   \n",
       "761            9      170             74             31        0  44.0   \n",
       "762            9       89             62              0        0  22.5   \n",
       "764            2      122             70             27        0  36.8   \n",
       "766            1      126             60              0        0  30.1   \n",
       "767            1       93             70             31        0  30.4   \n",
       "\n",
       "     DiabetesPedigreeFunction  Age  Outcome  \n",
       "0                       0.627   50        1  \n",
       "1                       0.351   31        0  \n",
       "2                       0.672   32        1  \n",
       "5                       0.201   30        0  \n",
       "7                       0.134   29        0  \n",
       "..                        ...  ...      ...  \n",
       "761                     0.403   43        1  \n",
       "762                     0.142   33        0  \n",
       "764                     0.340   27        0  \n",
       "766                     0.349   47        1  \n",
       "767                     0.315   23        0  \n",
       "\n",
       "[374 rows x 9 columns]"
      ]
     },
     "execution_count": 13,
     "metadata": {},
     "output_type": "execute_result"
    }
   ],
   "source": [
    "filt_skin = (diabetes['SkinThickness'] == 0) | (diabetes['Insulin'] == 0)\n",
    "diabetes[filt_skin]"
   ]
  },
  {
   "cell_type": "code",
   "execution_count": 14,
   "id": "29a5cd1a",
   "metadata": {
    "scrolled": false
   },
   "outputs": [
    {
     "data": {
      "text/plain": [
       "0      33.6\n",
       "1      26.6\n",
       "2      23.3\n",
       "5      25.6\n",
       "7      35.3\n",
       "       ... \n",
       "761    44.0\n",
       "762    22.5\n",
       "764    36.8\n",
       "766    30.1\n",
       "767    30.4\n",
       "Name: BMI, Length: 374, dtype: float64"
      ]
     },
     "execution_count": 14,
     "metadata": {},
     "output_type": "execute_result"
    }
   ],
   "source": [
    "diabetes.loc[filt_skin, 'BMI']"
   ]
  },
  {
   "cell_type": "code",
   "execution_count": 15,
   "id": "ec1a8ca0",
   "metadata": {},
   "outputs": [],
   "source": [
    "min = (diabetes.apply(pd.Series.min))"
   ]
  },
  {
   "cell_type": "code",
   "execution_count": 16,
   "id": "6ed1b6f2",
   "metadata": {},
   "outputs": [
    {
     "data": {
      "text/html": [
       "<div>\n",
       "<style scoped>\n",
       "    .dataframe tbody tr th:only-of-type {\n",
       "        vertical-align: middle;\n",
       "    }\n",
       "\n",
       "    .dataframe tbody tr th {\n",
       "        vertical-align: top;\n",
       "    }\n",
       "\n",
       "    .dataframe thead th {\n",
       "        text-align: right;\n",
       "    }\n",
       "</style>\n",
       "<table border=\"1\" class=\"dataframe\">\n",
       "  <thead>\n",
       "    <tr style=\"text-align: right;\">\n",
       "      <th></th>\n",
       "      <th>Pregnancies</th>\n",
       "      <th>Glucose</th>\n",
       "      <th>BloodPressure</th>\n",
       "      <th>SkinThickness</th>\n",
       "      <th>Insulin</th>\n",
       "      <th>BMI</th>\n",
       "      <th>DiabetesPedigreeFunction</th>\n",
       "      <th>Age</th>\n",
       "      <th>Outcome</th>\n",
       "      <th>Age to pregnancies ratio</th>\n",
       "    </tr>\n",
       "  </thead>\n",
       "  <tbody>\n",
       "    <tr>\n",
       "      <th>0</th>\n",
       "      <td>6</td>\n",
       "      <td>148</td>\n",
       "      <td>72</td>\n",
       "      <td>35</td>\n",
       "      <td>0</td>\n",
       "      <td>33.6</td>\n",
       "      <td>0.627</td>\n",
       "      <td>50</td>\n",
       "      <td>1</td>\n",
       "      <td>0.120000</td>\n",
       "    </tr>\n",
       "    <tr>\n",
       "      <th>1</th>\n",
       "      <td>1</td>\n",
       "      <td>85</td>\n",
       "      <td>66</td>\n",
       "      <td>29</td>\n",
       "      <td>0</td>\n",
       "      <td>26.6</td>\n",
       "      <td>0.351</td>\n",
       "      <td>31</td>\n",
       "      <td>0</td>\n",
       "      <td>0.032258</td>\n",
       "    </tr>\n",
       "    <tr>\n",
       "      <th>2</th>\n",
       "      <td>8</td>\n",
       "      <td>183</td>\n",
       "      <td>64</td>\n",
       "      <td>0</td>\n",
       "      <td>0</td>\n",
       "      <td>23.3</td>\n",
       "      <td>0.672</td>\n",
       "      <td>32</td>\n",
       "      <td>1</td>\n",
       "      <td>0.250000</td>\n",
       "    </tr>\n",
       "    <tr>\n",
       "      <th>3</th>\n",
       "      <td>1</td>\n",
       "      <td>89</td>\n",
       "      <td>66</td>\n",
       "      <td>23</td>\n",
       "      <td>94</td>\n",
       "      <td>28.1</td>\n",
       "      <td>0.167</td>\n",
       "      <td>21</td>\n",
       "      <td>0</td>\n",
       "      <td>0.047619</td>\n",
       "    </tr>\n",
       "    <tr>\n",
       "      <th>4</th>\n",
       "      <td>0</td>\n",
       "      <td>137</td>\n",
       "      <td>40</td>\n",
       "      <td>35</td>\n",
       "      <td>168</td>\n",
       "      <td>43.1</td>\n",
       "      <td>2.288</td>\n",
       "      <td>33</td>\n",
       "      <td>1</td>\n",
       "      <td>0.000000</td>\n",
       "    </tr>\n",
       "    <tr>\n",
       "      <th>...</th>\n",
       "      <td>...</td>\n",
       "      <td>...</td>\n",
       "      <td>...</td>\n",
       "      <td>...</td>\n",
       "      <td>...</td>\n",
       "      <td>...</td>\n",
       "      <td>...</td>\n",
       "      <td>...</td>\n",
       "      <td>...</td>\n",
       "      <td>...</td>\n",
       "    </tr>\n",
       "    <tr>\n",
       "      <th>763</th>\n",
       "      <td>10</td>\n",
       "      <td>101</td>\n",
       "      <td>76</td>\n",
       "      <td>48</td>\n",
       "      <td>180</td>\n",
       "      <td>32.9</td>\n",
       "      <td>0.171</td>\n",
       "      <td>63</td>\n",
       "      <td>0</td>\n",
       "      <td>0.158730</td>\n",
       "    </tr>\n",
       "    <tr>\n",
       "      <th>764</th>\n",
       "      <td>2</td>\n",
       "      <td>122</td>\n",
       "      <td>70</td>\n",
       "      <td>27</td>\n",
       "      <td>0</td>\n",
       "      <td>36.8</td>\n",
       "      <td>0.340</td>\n",
       "      <td>27</td>\n",
       "      <td>0</td>\n",
       "      <td>0.074074</td>\n",
       "    </tr>\n",
       "    <tr>\n",
       "      <th>765</th>\n",
       "      <td>5</td>\n",
       "      <td>121</td>\n",
       "      <td>72</td>\n",
       "      <td>23</td>\n",
       "      <td>112</td>\n",
       "      <td>26.2</td>\n",
       "      <td>0.245</td>\n",
       "      <td>30</td>\n",
       "      <td>0</td>\n",
       "      <td>0.166667</td>\n",
       "    </tr>\n",
       "    <tr>\n",
       "      <th>766</th>\n",
       "      <td>1</td>\n",
       "      <td>126</td>\n",
       "      <td>60</td>\n",
       "      <td>0</td>\n",
       "      <td>0</td>\n",
       "      <td>30.1</td>\n",
       "      <td>0.349</td>\n",
       "      <td>47</td>\n",
       "      <td>1</td>\n",
       "      <td>0.021277</td>\n",
       "    </tr>\n",
       "    <tr>\n",
       "      <th>767</th>\n",
       "      <td>1</td>\n",
       "      <td>93</td>\n",
       "      <td>70</td>\n",
       "      <td>31</td>\n",
       "      <td>0</td>\n",
       "      <td>30.4</td>\n",
       "      <td>0.315</td>\n",
       "      <td>23</td>\n",
       "      <td>0</td>\n",
       "      <td>0.043478</td>\n",
       "    </tr>\n",
       "  </tbody>\n",
       "</table>\n",
       "<p>768 rows × 10 columns</p>\n",
       "</div>"
      ],
      "text/plain": [
       "     Pregnancies  Glucose  BloodPressure  SkinThickness  Insulin   BMI  \\\n",
       "0              6      148             72             35        0  33.6   \n",
       "1              1       85             66             29        0  26.6   \n",
       "2              8      183             64              0        0  23.3   \n",
       "3              1       89             66             23       94  28.1   \n",
       "4              0      137             40             35      168  43.1   \n",
       "..           ...      ...            ...            ...      ...   ...   \n",
       "763           10      101             76             48      180  32.9   \n",
       "764            2      122             70             27        0  36.8   \n",
       "765            5      121             72             23      112  26.2   \n",
       "766            1      126             60              0        0  30.1   \n",
       "767            1       93             70             31        0  30.4   \n",
       "\n",
       "     DiabetesPedigreeFunction  Age  Outcome  Age to pregnancies ratio  \n",
       "0                       0.627   50        1                  0.120000  \n",
       "1                       0.351   31        0                  0.032258  \n",
       "2                       0.672   32        1                  0.250000  \n",
       "3                       0.167   21        0                  0.047619  \n",
       "4                       2.288   33        1                  0.000000  \n",
       "..                        ...  ...      ...                       ...  \n",
       "763                     0.171   63        0                  0.158730  \n",
       "764                     0.340   27        0                  0.074074  \n",
       "765                     0.245   30        0                  0.166667  \n",
       "766                     0.349   47        1                  0.021277  \n",
       "767                     0.315   23        0                  0.043478  \n",
       "\n",
       "[768 rows x 10 columns]"
      ]
     },
     "execution_count": 16,
     "metadata": {},
     "output_type": "execute_result"
    }
   ],
   "source": [
    "diabetes['Age to pregnancies ratio'] = diabetes['Pregnancies']/diabetes['Age']\n",
    "diabetes"
   ]
  },
  {
   "cell_type": "code",
   "execution_count": 17,
   "id": "e1557709",
   "metadata": {},
   "outputs": [
    {
     "data": {
      "text/html": [
       "<div>\n",
       "<style scoped>\n",
       "    .dataframe tbody tr th:only-of-type {\n",
       "        vertical-align: middle;\n",
       "    }\n",
       "\n",
       "    .dataframe tbody tr th {\n",
       "        vertical-align: top;\n",
       "    }\n",
       "\n",
       "    .dataframe thead th {\n",
       "        text-align: right;\n",
       "    }\n",
       "</style>\n",
       "<table border=\"1\" class=\"dataframe\">\n",
       "  <thead>\n",
       "    <tr style=\"text-align: right;\">\n",
       "      <th></th>\n",
       "      <th>count</th>\n",
       "      <th>mean</th>\n",
       "      <th>std</th>\n",
       "      <th>min</th>\n",
       "      <th>25%</th>\n",
       "      <th>50%</th>\n",
       "      <th>75%</th>\n",
       "      <th>max</th>\n",
       "    </tr>\n",
       "  </thead>\n",
       "  <tbody>\n",
       "    <tr>\n",
       "      <th>Pregnancies</th>\n",
       "      <td>768.0</td>\n",
       "      <td>3.845052</td>\n",
       "      <td>3.369578</td>\n",
       "      <td>0.000</td>\n",
       "      <td>1.000000</td>\n",
       "      <td>3.000000</td>\n",
       "      <td>6.000000</td>\n",
       "      <td>17.000000</td>\n",
       "    </tr>\n",
       "    <tr>\n",
       "      <th>Glucose</th>\n",
       "      <td>768.0</td>\n",
       "      <td>120.894531</td>\n",
       "      <td>31.972618</td>\n",
       "      <td>0.000</td>\n",
       "      <td>99.000000</td>\n",
       "      <td>117.000000</td>\n",
       "      <td>140.250000</td>\n",
       "      <td>199.000000</td>\n",
       "    </tr>\n",
       "    <tr>\n",
       "      <th>BloodPressure</th>\n",
       "      <td>768.0</td>\n",
       "      <td>69.105469</td>\n",
       "      <td>19.355807</td>\n",
       "      <td>0.000</td>\n",
       "      <td>62.000000</td>\n",
       "      <td>72.000000</td>\n",
       "      <td>80.000000</td>\n",
       "      <td>122.000000</td>\n",
       "    </tr>\n",
       "    <tr>\n",
       "      <th>SkinThickness</th>\n",
       "      <td>768.0</td>\n",
       "      <td>20.536458</td>\n",
       "      <td>15.952218</td>\n",
       "      <td>0.000</td>\n",
       "      <td>0.000000</td>\n",
       "      <td>23.000000</td>\n",
       "      <td>32.000000</td>\n",
       "      <td>99.000000</td>\n",
       "    </tr>\n",
       "    <tr>\n",
       "      <th>Insulin</th>\n",
       "      <td>768.0</td>\n",
       "      <td>79.799479</td>\n",
       "      <td>115.244002</td>\n",
       "      <td>0.000</td>\n",
       "      <td>0.000000</td>\n",
       "      <td>30.500000</td>\n",
       "      <td>127.250000</td>\n",
       "      <td>846.000000</td>\n",
       "    </tr>\n",
       "    <tr>\n",
       "      <th>BMI</th>\n",
       "      <td>768.0</td>\n",
       "      <td>31.992578</td>\n",
       "      <td>7.884160</td>\n",
       "      <td>0.000</td>\n",
       "      <td>27.300000</td>\n",
       "      <td>32.000000</td>\n",
       "      <td>36.600000</td>\n",
       "      <td>67.100000</td>\n",
       "    </tr>\n",
       "    <tr>\n",
       "      <th>DiabetesPedigreeFunction</th>\n",
       "      <td>768.0</td>\n",
       "      <td>0.471876</td>\n",
       "      <td>0.331329</td>\n",
       "      <td>0.078</td>\n",
       "      <td>0.243750</td>\n",
       "      <td>0.372500</td>\n",
       "      <td>0.626250</td>\n",
       "      <td>2.420000</td>\n",
       "    </tr>\n",
       "    <tr>\n",
       "      <th>Age</th>\n",
       "      <td>768.0</td>\n",
       "      <td>33.240885</td>\n",
       "      <td>11.760232</td>\n",
       "      <td>21.000</td>\n",
       "      <td>24.000000</td>\n",
       "      <td>29.000000</td>\n",
       "      <td>41.000000</td>\n",
       "      <td>81.000000</td>\n",
       "    </tr>\n",
       "    <tr>\n",
       "      <th>Outcome</th>\n",
       "      <td>768.0</td>\n",
       "      <td>0.348958</td>\n",
       "      <td>0.476951</td>\n",
       "      <td>0.000</td>\n",
       "      <td>0.000000</td>\n",
       "      <td>0.000000</td>\n",
       "      <td>1.000000</td>\n",
       "      <td>1.000000</td>\n",
       "    </tr>\n",
       "    <tr>\n",
       "      <th>Age to pregnancies ratio</th>\n",
       "      <td>768.0</td>\n",
       "      <td>0.108210</td>\n",
       "      <td>0.081790</td>\n",
       "      <td>0.000</td>\n",
       "      <td>0.041667</td>\n",
       "      <td>0.095238</td>\n",
       "      <td>0.166667</td>\n",
       "      <td>0.368421</td>\n",
       "    </tr>\n",
       "  </tbody>\n",
       "</table>\n",
       "</div>"
      ],
      "text/plain": [
       "                          count        mean         std     min        25%  \\\n",
       "Pregnancies               768.0    3.845052    3.369578   0.000   1.000000   \n",
       "Glucose                   768.0  120.894531   31.972618   0.000  99.000000   \n",
       "BloodPressure             768.0   69.105469   19.355807   0.000  62.000000   \n",
       "SkinThickness             768.0   20.536458   15.952218   0.000   0.000000   \n",
       "Insulin                   768.0   79.799479  115.244002   0.000   0.000000   \n",
       "BMI                       768.0   31.992578    7.884160   0.000  27.300000   \n",
       "DiabetesPedigreeFunction  768.0    0.471876    0.331329   0.078   0.243750   \n",
       "Age                       768.0   33.240885   11.760232  21.000  24.000000   \n",
       "Outcome                   768.0    0.348958    0.476951   0.000   0.000000   \n",
       "Age to pregnancies ratio  768.0    0.108210    0.081790   0.000   0.041667   \n",
       "\n",
       "                                 50%         75%         max  \n",
       "Pregnancies                 3.000000    6.000000   17.000000  \n",
       "Glucose                   117.000000  140.250000  199.000000  \n",
       "BloodPressure              72.000000   80.000000  122.000000  \n",
       "SkinThickness              23.000000   32.000000   99.000000  \n",
       "Insulin                    30.500000  127.250000  846.000000  \n",
       "BMI                        32.000000   36.600000   67.100000  \n",
       "DiabetesPedigreeFunction    0.372500    0.626250    2.420000  \n",
       "Age                        29.000000   41.000000   81.000000  \n",
       "Outcome                     0.000000    1.000000    1.000000  \n",
       "Age to pregnancies ratio    0.095238    0.166667    0.368421  "
      ]
     },
     "execution_count": 17,
     "metadata": {},
     "output_type": "execute_result"
    }
   ],
   "source": [
    "diabetes.describe().T\n"
   ]
  },
  {
   "cell_type": "code",
   "execution_count": 18,
   "id": "700523e8",
   "metadata": {},
   "outputs": [
    {
     "data": {
      "text/plain": [
       "count    768.000000\n",
       "mean      79.799479\n",
       "std      115.244002\n",
       "min        0.000000\n",
       "25%        0.000000\n",
       "50%       30.500000\n",
       "75%      127.250000\n",
       "max      846.000000\n",
       "Name: Insulin, dtype: float64"
      ]
     },
     "execution_count": 18,
     "metadata": {},
     "output_type": "execute_result"
    }
   ],
   "source": [
    "diabetes['Insulin'].describe()"
   ]
  },
  {
   "cell_type": "code",
   "execution_count": 19,
   "id": "e003da51",
   "metadata": {},
   "outputs": [
    {
     "data": {
      "text/plain": [
       "Text(0, 0.5, 'PREGNANCIES')"
      ]
     },
     "execution_count": 19,
     "metadata": {},
     "output_type": "execute_result"
    },
    {
     "data": {
      "image/png": "[encoded data removed]",
      "text/plain": [
       "<Figure size 576x396 with 1 Axes>"
      ]
     },
     "metadata": {},
     "output_type": "display_data"
    }
   ],
   "source": [
    "plt.plot(diabetes['Age'],diabetes['Pregnancies'])\n",
    "plt.xlabel('AGE')\n",
    "plt.ylabel('PREGNANCIES')"
   ]
  },
  {
   "cell_type": "code",
   "execution_count": 20,
   "id": "5737595f",
   "metadata": {
    "scrolled": false
   },
   "outputs": [
    {
     "data": {
      "text/plain": [
       "Text(0, 0.5, 'Insulin')"
      ]
     },
     "execution_count": 20,
     "metadata": {},
     "output_type": "execute_result"
    },
    {
     "data": {
      "image/png": "[encoded data removed]",
      "text/plain": [
       "<Figure size 576x396 with 1 Axes>"
      ]
     },
     "metadata": {},
     "output_type": "display_data"
    }
   ],
   "source": [
    "plt.plot(diabetes['BloodPressure'],diabetes['Insulin'], '--y')\n",
    "plt.bar(diabetes['BloodPressure'],diabetes['Insulin'])\n",
    "plt.xlabel('Blood Pressure')\n",
    "plt.ylabel('Insulin')"
   ]
  },
  {
   "cell_type": "code",
   "execution_count": 21,
   "id": "0b203378",
   "metadata": {
    "scrolled": false
   },
   "outputs": [
    {
     "data": {
      "text/plain": [
       "<matplotlib.collections.PathCollection at 0x13bd1d32e50>"
      ]
     },
     "execution_count": 21,
     "metadata": {},
     "output_type": "execute_result"
    },
    {
     "data": {
      "image/png": "[encoded data removed]",
      "text/plain": [
       "<Figure size 576x396 with 1 Axes>"
      ]
     },
     "metadata": {},
     "output_type": "display_data"
    }
   ],
   "source": [
    "plt.scatter(diabetes.Pregnancies ,diabetes.Age)"
   ]
  },
  {
   "cell_type": "code",
   "execution_count": 22,
   "id": "aac849d7",
   "metadata": {},
   "outputs": [
    {
     "data": {
      "text/plain": [
       "LinearRegression()"
      ]
     },
     "execution_count": 22,
     "metadata": {},
     "output_type": "execute_result"
    }
   ],
   "source": [
    "reg = linear_model.LinearRegression()\n",
    "reg.fit(diabetes[['Pregnancies']], diabetes.Age)"
   ]
  },
  {
   "cell_type": "code",
   "execution_count": 23,
   "id": "a1461296",
   "metadata": {},
   "outputs": [
    {
     "data": {
      "text/plain": [
       "array([44.93415498])"
      ]
     },
     "execution_count": 23,
     "metadata": {},
     "output_type": "execute_result"
    }
   ],
   "source": [
    "reg.predict([[10]])"
   ]
  },
  {
   "cell_type": "code",
   "execution_count": 24,
   "id": "3ccd47a6",
   "metadata": {},
   "outputs": [
    {
     "data": {
      "text/plain": [
       "array([1.89981617])"
      ]
     },
     "execution_count": 24,
     "metadata": {},
     "output_type": "execute_result"
    }
   ],
   "source": [
    "reg.coef_"
   ]
  },
  {
   "cell_type": "code",
   "execution_count": 25,
   "id": "bfbbfd33",
   "metadata": {},
   "outputs": [
    {
     "data": {
      "text/plain": [
       "25.935993301610676"
      ]
     },
     "execution_count": 25,
     "metadata": {},
     "output_type": "execute_result"
    }
   ],
   "source": [
    "reg.intercept_\n"
   ]
  },
  {
   "cell_type": "code",
   "execution_count": 26,
   "id": "ac35483c",
   "metadata": {},
   "outputs": [],
   "source": [
    " new = (12,13,1,3,4,5,6,7,8,13,2,2,2,9)"
   ]
  },
  {
   "cell_type": "code",
   "execution_count": 27,
   "id": "d0f38bc7",
   "metadata": {
    "scrolled": true
   },
   "outputs": [
    {
     "data": {
      "text/html": [
       "<div>\n",
       "<style scoped>\n",
       "    .dataframe tbody tr th:only-of-type {\n",
       "        vertical-align: middle;\n",
       "    }\n",
       "\n",
       "    .dataframe tbody tr th {\n",
       "        vertical-align: top;\n",
       "    }\n",
       "\n",
       "    .dataframe thead th {\n",
       "        text-align: right;\n",
       "    }\n",
       "</style>\n",
       "<table border=\"1\" class=\"dataframe\">\n",
       "  <thead>\n",
       "    <tr style=\"text-align: right;\">\n",
       "      <th></th>\n",
       "      <th>Preg</th>\n",
       "    </tr>\n",
       "  </thead>\n",
       "  <tbody>\n",
       "    <tr>\n",
       "      <th>0</th>\n",
       "      <td>12</td>\n",
       "    </tr>\n",
       "    <tr>\n",
       "      <th>1</th>\n",
       "      <td>13</td>\n",
       "    </tr>\n",
       "    <tr>\n",
       "      <th>2</th>\n",
       "      <td>1</td>\n",
       "    </tr>\n",
       "    <tr>\n",
       "      <th>3</th>\n",
       "      <td>3</td>\n",
       "    </tr>\n",
       "    <tr>\n",
       "      <th>4</th>\n",
       "      <td>4</td>\n",
       "    </tr>\n",
       "    <tr>\n",
       "      <th>5</th>\n",
       "      <td>5</td>\n",
       "    </tr>\n",
       "    <tr>\n",
       "      <th>6</th>\n",
       "      <td>6</td>\n",
       "    </tr>\n",
       "    <tr>\n",
       "      <th>7</th>\n",
       "      <td>7</td>\n",
       "    </tr>\n",
       "    <tr>\n",
       "      <th>8</th>\n",
       "      <td>8</td>\n",
       "    </tr>\n",
       "    <tr>\n",
       "      <th>9</th>\n",
       "      <td>13</td>\n",
       "    </tr>\n",
       "    <tr>\n",
       "      <th>10</th>\n",
       "      <td>2</td>\n",
       "    </tr>\n",
       "    <tr>\n",
       "      <th>11</th>\n",
       "      <td>2</td>\n",
       "    </tr>\n",
       "    <tr>\n",
       "      <th>12</th>\n",
       "      <td>2</td>\n",
       "    </tr>\n",
       "    <tr>\n",
       "      <th>13</th>\n",
       "      <td>9</td>\n",
       "    </tr>\n",
       "  </tbody>\n",
       "</table>\n",
       "</div>"
      ],
      "text/plain": [
       "    Preg\n",
       "0     12\n",
       "1     13\n",
       "2      1\n",
       "3      3\n",
       "4      4\n",
       "5      5\n",
       "6      6\n",
       "7      7\n",
       "8      8\n",
       "9     13\n",
       "10     2\n",
       "11     2\n",
       "12     2\n",
       "13     9"
      ]
     },
     "execution_count": 27,
     "metadata": {},
     "output_type": "execute_result"
    }
   ],
   "source": [
    "df = pd.DataFrame({'Preg': new})\n",
    "df"
   ]
  },
  {
   "cell_type": "code",
   "execution_count": 28,
   "id": "0d573d5a",
   "metadata": {},
   "outputs": [
    {
     "data": {
      "text/plain": [
       "array([48.73378732, 50.63360349, 27.83580947, 31.63544181, 33.53525797,\n",
       "       35.43507414, 37.33489031, 39.23470648, 41.13452265, 50.63360349,\n",
       "       29.73562564, 29.73562564, 29.73562564, 43.03433881])"
      ]
     },
     "execution_count": 28,
     "metadata": {},
     "output_type": "execute_result"
    }
   ],
   "source": [
    "a = reg.predict(df)\n",
    "a"
   ]
  },
  {
   "cell_type": "code",
   "execution_count": 29,
   "id": "010bea0f",
   "metadata": {},
   "outputs": [
    {
     "data": {
      "text/html": [
       "<div>\n",
       "<style scoped>\n",
       "    .dataframe tbody tr th:only-of-type {\n",
       "        vertical-align: middle;\n",
       "    }\n",
       "\n",
       "    .dataframe tbody tr th {\n",
       "        vertical-align: top;\n",
       "    }\n",
       "\n",
       "    .dataframe thead th {\n",
       "        text-align: right;\n",
       "    }\n",
       "</style>\n",
       "<table border=\"1\" class=\"dataframe\">\n",
       "  <thead>\n",
       "    <tr style=\"text-align: right;\">\n",
       "      <th></th>\n",
       "      <th>Preg</th>\n",
       "      <th>ages</th>\n",
       "    </tr>\n",
       "  </thead>\n",
       "  <tbody>\n",
       "    <tr>\n",
       "      <th>0</th>\n",
       "      <td>12</td>\n",
       "      <td>48.733787</td>\n",
       "    </tr>\n",
       "    <tr>\n",
       "      <th>1</th>\n",
       "      <td>13</td>\n",
       "      <td>50.633603</td>\n",
       "    </tr>\n",
       "    <tr>\n",
       "      <th>2</th>\n",
       "      <td>1</td>\n",
       "      <td>27.835809</td>\n",
       "    </tr>\n",
       "    <tr>\n",
       "      <th>3</th>\n",
       "      <td>3</td>\n",
       "      <td>31.635442</td>\n",
       "    </tr>\n",
       "    <tr>\n",
       "      <th>4</th>\n",
       "      <td>4</td>\n",
       "      <td>33.535258</td>\n",
       "    </tr>\n",
       "    <tr>\n",
       "      <th>5</th>\n",
       "      <td>5</td>\n",
       "      <td>35.435074</td>\n",
       "    </tr>\n",
       "    <tr>\n",
       "      <th>6</th>\n",
       "      <td>6</td>\n",
       "      <td>37.334890</td>\n",
       "    </tr>\n",
       "    <tr>\n",
       "      <th>7</th>\n",
       "      <td>7</td>\n",
       "      <td>39.234706</td>\n",
       "    </tr>\n",
       "    <tr>\n",
       "      <th>8</th>\n",
       "      <td>8</td>\n",
       "      <td>41.134523</td>\n",
       "    </tr>\n",
       "    <tr>\n",
       "      <th>9</th>\n",
       "      <td>13</td>\n",
       "      <td>50.633603</td>\n",
       "    </tr>\n",
       "    <tr>\n",
       "      <th>10</th>\n",
       "      <td>2</td>\n",
       "      <td>29.735626</td>\n",
       "    </tr>\n",
       "    <tr>\n",
       "      <th>11</th>\n",
       "      <td>2</td>\n",
       "      <td>29.735626</td>\n",
       "    </tr>\n",
       "    <tr>\n",
       "      <th>12</th>\n",
       "      <td>2</td>\n",
       "      <td>29.735626</td>\n",
       "    </tr>\n",
       "    <tr>\n",
       "      <th>13</th>\n",
       "      <td>9</td>\n",
       "      <td>43.034339</td>\n",
       "    </tr>\n",
       "  </tbody>\n",
       "</table>\n",
       "</div>"
      ],
      "text/plain": [
       "    Preg       ages\n",
       "0     12  48.733787\n",
       "1     13  50.633603\n",
       "2      1  27.835809\n",
       "3      3  31.635442\n",
       "4      4  33.535258\n",
       "5      5  35.435074\n",
       "6      6  37.334890\n",
       "7      7  39.234706\n",
       "8      8  41.134523\n",
       "9     13  50.633603\n",
       "10     2  29.735626\n",
       "11     2  29.735626\n",
       "12     2  29.735626\n",
       "13     9  43.034339"
      ]
     },
     "execution_count": 29,
     "metadata": {},
     "output_type": "execute_result"
    }
   ],
   "source": [
    "df['ages'] = a\n",
    "df"
   ]
  },
  {
   "cell_type": "code",
   "execution_count": 30,
   "id": "382c4992",
   "metadata": {},
   "outputs": [
    {
     "data": {
      "text/plain": [
       "[<matplotlib.lines.Line2D at 0x13bd2da2a60>]"
      ]
     },
     "execution_count": 30,
     "metadata": {},
     "output_type": "execute_result"
    },
    {
     "data": {
      "image/png": "[encoded data removed]",
      "text/plain": [
       "<Figure size 576x396 with 1 Axes>"
      ]
     },
     "metadata": {},
     "output_type": "display_data"
    }
   ],
   "source": [
    "plt.scatter(diabetes.Age ,diabetes.Pregnancies)\n",
    "plt.plot(reg.predict(diabetes[['Pregnancies']]), diabetes.Pregnancies, color = 'black')"
   ]
  },
  {
   "cell_type": "code",
   "execution_count": 32,
   "id": "6e8a6a8e",
   "metadata": {},
   "outputs": [
    {
     "data": {
      "text/plain": [
       "29.0"
      ]
     },
     "execution_count": 32,
     "metadata": {},
     "output_type": "execute_result"
    }
   ],
   "source": [
    "diabetes.Age.median()"
   ]
  },
  {
   "cell_type": "code",
   "execution_count": 35,
   "id": "5ed5d6d0",
   "metadata": {},
   "outputs": [
    {
     "data": {
      "text/plain": [
       "LinearRegression()"
      ]
     },
     "execution_count": 35,
     "metadata": {},
     "output_type": "execute_result"
    }
   ],
   "source": [
    "reg.fit(diabetes[['Pregnancies','Glucose','BloodPressure','SkinThickness','Insulin','BMI',]], diabetes.Age)"
   ]
  },
  {
   "cell_type": "code",
   "execution_count": 36,
   "id": "7555e5c4",
   "metadata": {},
   "outputs": [
    {
     "data": {
      "text/plain": [
       "array([ 1.68969932,  0.07297935,  0.10298721, -0.07035863, -0.00429653,\n",
       "       -0.0270755 ])"
      ]
     },
     "execution_count": 36,
     "metadata": {},
     "output_type": "execute_result"
    }
   ],
   "source": [
    "reg.coef_"
   ]
  },
  {
   "cell_type": "code",
   "execution_count": 37,
   "id": "3c11c434",
   "metadata": {},
   "outputs": [
    {
     "data": {
      "text/plain": [
       "13.458112462486763"
      ]
     },
     "execution_count": 37,
     "metadata": {},
     "output_type": "execute_result"
    }
   ],
   "source": [
    "reg.intercept_"
   ]
  },
  {
   "cell_type": "code",
   "execution_count": 38,
   "id": "8b8ad546",
   "metadata": {},
   "outputs": [
    {
     "data": {
      "text/plain": [
       "array([38.44004306, 25.38760416, 46.29125106, 25.6571861 , 23.22444891,\n",
       "       37.3001348 , 25.90004908, 37.79196616, 32.09859075, 45.98489845,\n",
       "       36.70142308, 49.20782159, 48.00446656, 29.05205538, 38.64900602,\n",
       "       31.77167805, 25.18548604, 39.91441724, 21.5516923 , 27.28950392,\n",
       "       31.82702755, 41.8931159 , 47.78120499, 42.34118474, 48.22155861,\n",
       "       43.52115603, 42.7742259 , 26.73891945, 52.04065262, 38.99674214,\n",
       "       34.78135698, 33.44382957, 29.24522167, 39.24642976, 44.36318792,\n",
       "       30.11643494, 49.04407712, 40.44227516, 26.41943668, 30.53195844,\n",
       "       35.2743856 , 42.55475221, 40.61557334, 48.52446647, 42.73903767,\n",
       "       29.51039447, 30.7659388 , 26.57035291, 36.28990879, 32.94883992,\n",
       "       29.25213678, 25.80280532, 32.8889544 , 44.49532494, 37.66607052,\n",
       "       24.29834228, 40.86539863, 23.85765266, 31.4614915 , 23.09368147,\n",
       "       22.96777687, 43.20625619, 30.82602007, 29.47099105, 39.51473343,\n",
       "       34.06774613, 27.48502385, 33.11096002, 27.26939605, 36.51399014,\n",
       "       28.24795791, 34.80349494, 52.71337431, 34.97056019, 25.66004657,\n",
       "       18.01526037, 36.96106862, 32.91214565, 21.84874614, 29.58357724,\n",
       "       29.78416126, 22.23798333, 36.44860616, 24.88709693, 41.70611469,\n",
       "       29.03158062, 45.784765  , 28.03215048, 52.20930341, 27.90541819,\n",
       "       26.13331454, 34.75436199, 34.94533314, 36.76682534, 33.43533235,\n",
       "       37.72326277, 27.11119123, 23.12740003, 32.36994503, 27.44096238,\n",
       "       33.402581  , 31.64025623, 31.85810505, 26.31569363, 28.66273491,\n",
       "       26.6399542 , 34.11177809, 33.32891157, 27.37061021, 26.21879929,\n",
       "       34.61827836, 39.79603931, 26.07408154, 31.22798056, 38.69484174,\n",
       "       39.50196306, 37.6565354 , 31.62994031, 31.09336207, 33.36623955,\n",
       "       27.29764271, 34.61822946, 28.81720662, 39.05323712, 28.63019317,\n",
       "       19.79003958, 30.64150792, 25.89423492, 29.50356166, 29.01646373,\n",
       "       37.54046215, 42.43455706, 33.02078836, 37.50891709, 29.15017404,\n",
       "       29.21532397, 25.08707617, 23.49311144, 30.26667023, 32.54866128,\n",
       "       35.33027701, 34.90713062, 27.0946566 , 44.15678547, 33.55152834,\n",
       "       27.0077989 , 37.5728606 , 27.36486199, 39.75513204, 28.67949976,\n",
       "       27.28700982, 34.63777124, 45.34239191, 28.6204585 , 47.43191139,\n",
       "       40.99218925, 27.29249131, 26.1299795 , 28.5310281 , 57.01181835,\n",
       "       37.02787083, 36.07826572, 25.2032935 , 28.30423708, 31.22569642,\n",
       "       36.06094296, 33.48639116, 35.17612762, 34.178086  , 33.94839032,\n",
       "       38.65122822, 37.44937617, 20.78598446, 22.75333309, 26.17308534,\n",
       "       43.05511012, 36.98780015, 28.58922997, 39.15726144, 38.78022414,\n",
       "       37.55633731, 26.12716576, 20.51288107, 32.68771102, 37.38076833,\n",
       "       43.50508058, 41.71343397, 30.58159701, 38.76828696, 36.28413315,\n",
       "       32.40121938, 40.45511887, 42.86378558, 40.48096901, 36.77543386,\n",
       "       37.23452244, 28.12596741, 30.98028363, 30.29947703, 33.09447368,\n",
       "       27.97867763, 32.57818618, 26.1966792 , 29.40444615, 34.4396974 ,\n",
       "       34.8052504 , 44.84792795, 43.41918779, 25.5726233 , 44.08211945,\n",
       "       26.63019014, 27.98179295, 45.02599739, 26.82810081, 41.35469388,\n",
       "       46.85303026, 31.83830635, 36.28325021, 33.3978283 , 35.85399856,\n",
       "       27.52373597, 36.78151205, 33.2882482 , 37.91035838, 27.30793598,\n",
       "       26.55603359, 27.68945971, 32.02436417, 34.86867016, 26.60302731,\n",
       "       38.24555594, 36.17064443, 26.5465024 , 35.17587861, 27.96328496,\n",
       "       38.93096648, 43.87172061, 32.69655312, 46.9734894 , 28.37680398,\n",
       "       25.90090269, 30.54136564, 33.53951711, 34.39238651, 30.98916142,\n",
       "       48.97987586, 45.41696146, 28.10902967, 39.91643768, 29.95363357,\n",
       "       40.91179711, 34.14465933, 29.76265745, 23.5166881 , 44.48551244,\n",
       "       26.61337137, 28.83624338, 29.83533101, 30.94399467, 47.66749726,\n",
       "       37.01883577, 28.00503429, 31.23845335, 35.19662979, 34.71216122,\n",
       "       34.06962077, 22.54642259, 28.7319674 , 25.57774637, 26.7479205 ,\n",
       "       42.74500833, 27.93010383, 34.84095743, 23.75216629, 49.44313766,\n",
       "       26.3444424 , 36.79494396, 24.76980162, 37.17312894, 28.52145603,\n",
       "       30.29604129, 44.13024131, 41.45654814, 45.06948848, 32.22721955,\n",
       "       39.71893423, 35.38412321, 27.76538857, 31.02041431, 32.87837191,\n",
       "       25.00202901, 24.23244478, 29.65426352, 24.33633193, 29.76419547,\n",
       "       37.34351627, 29.72310815, 27.50906424, 48.9043498 , 41.92549193,\n",
       "       24.77112588, 29.56234389, 31.93650947, 38.95968723, 36.73255593,\n",
       "       29.29275903, 46.23209602, 28.16703429, 26.86660758, 29.14846666,\n",
       "       33.41167557, 24.09709795, 33.44159244, 30.05571913, 38.32660609,\n",
       "       29.13929059, 32.41966313, 38.60470357, 29.33991442, 45.15103115,\n",
       "       33.22910033, 31.3556069 , 27.56761573, 52.61385676, 29.51716797,\n",
       "       31.12816811, 26.77038923, 49.67716461, 28.85787548, 35.09067953,\n",
       "       41.04009189, 26.92544644, 27.11172627, 49.07031077, 26.09732436,\n",
       "       27.90878068, 21.08154491, 37.28150704, 43.73838809, 45.84694581,\n",
       "       29.77717899, 27.20947043, 18.82197398, 38.72747036, 40.32744626,\n",
       "       41.19463724, 27.55886068, 26.3565412 , 29.89237026, 26.78401413,\n",
       "       34.02740087, 38.02125119, 28.52246335, 26.33565258, 31.97223067,\n",
       "       48.94677896, 24.9861114 , 41.64746896, 43.77561794, 32.6877903 ,\n",
       "       37.72792523, 39.83960173, 36.88147226, 37.86249095, 34.60314379,\n",
       "       31.44565366, 39.31354353, 25.65552643, 31.14155268, 31.89912877,\n",
       "       33.18278921, 26.66021793, 23.37879572, 26.31044733, 26.41192102,\n",
       "       46.91341159, 26.95644961, 23.74353037, 38.01798293, 26.31549978,\n",
       "       27.07468186, 26.03467505, 27.2492384 , 25.90161487, 28.66017547,\n",
       "       27.6603918 , 35.07832874, 41.23198032, 36.94033531, 30.00642271,\n",
       "       25.49396653, 40.61085932, 27.88951772, 34.28112353, 38.88986602,\n",
       "       28.45900253, 27.74545277, 26.07252886, 31.14932903, 36.69527797,\n",
       "       32.87471372, 39.22147254, 36.27228574, 39.33837063, 39.86753795,\n",
       "       26.65707525, 35.24213254, 26.62128072, 48.27243781, 27.62012501,\n",
       "       36.59846947, 26.93823284, 30.13661044, 30.68555654, 25.59161076,\n",
       "       34.47857811, 27.01595454, 35.87700501, 27.71545428, 31.28343392,\n",
       "       28.05359498, 28.40374587, 22.82229625, 29.43950297, 41.71330505,\n",
       "       36.74219391, 20.31817177, 31.14084713, 28.0323636 , 27.04581762,\n",
       "       23.46139101, 30.32938793, 26.76321173, 34.01254919, 27.49286508,\n",
       "       22.60020008, 49.37106822, 39.54905733, 27.88776026, 39.47159523,\n",
       "       35.27422478, 26.98704713, 32.03250216, 41.24077912, 33.49225522,\n",
       "       28.52636873, 28.03075532, 24.08045287, 23.85116257, 27.47374885,\n",
       "       25.82646691, 33.04336721, 22.86830363, 24.99137441, 26.25212443,\n",
       "       53.25000124, 29.838418  , 32.09318828, 44.39344467, 42.78481121,\n",
       "       42.48634192, 26.12430696, 35.60464351, 33.50375189, 48.19066589,\n",
       "       26.31879217, 22.60295917, 23.16934897, 34.92096446, 38.13373244,\n",
       "       30.16922662, 27.09285413, 25.989599  , 43.67049122, 34.34525551,\n",
       "       29.46836543, 27.84009982, 39.1195699 , 40.09503594, 35.76785301,\n",
       "       32.78585148, 27.94112056, 29.88229418, 24.28086127, 22.84338159,\n",
       "       25.13896647, 25.62813708, 29.46747522, 32.96771537, 48.66600791,\n",
       "       26.33897496, 29.58373432, 30.88329174, 33.9753195 , 24.36555877,\n",
       "       42.61172633, 36.23350521, 27.96702942, 43.10165954, 38.58216352,\n",
       "       32.32077407, 28.81387049, 26.6587903 , 35.73724248, 29.81232805,\n",
       "       43.37189418, 32.65897707, 27.6913422 , 25.34925721, 43.08934432,\n",
       "       44.29458928, 27.29071275, 41.65443067, 29.1246781 , 28.91402729,\n",
       "       35.05877282, 44.38877836, 42.2472881 , 46.26179064, 39.85563435,\n",
       "       25.79727712, 32.03633659, 31.91595479, 44.43584488, 32.76730197,\n",
       "       29.19894557, 26.63608688, 32.39526806, 24.97106183, 27.58693203,\n",
       "       29.39148725, 27.867411  , 23.16505062, 29.43057964, 23.28152695,\n",
       "       28.95940046, 29.58835863, 23.20962981, 26.47708558, 32.31728694,\n",
       "       37.08982173, 31.83109385, 42.48074925, 32.68768779, 26.3696446 ,\n",
       "       45.45533934, 39.4112193 , 33.69338081, 31.36001197, 42.38583148,\n",
       "       28.1106112 , 28.2307067 , 40.22613024, 25.26798996, 24.75782331,\n",
       "       37.60853796, 25.58999206, 42.07776495, 42.49957541, 45.05413098,\n",
       "       39.6306036 , 30.15823639, 24.75908067, 34.70333937, 27.46096416,\n",
       "       27.26207287, 26.55463614, 33.03636081, 35.44158296, 25.33739385,\n",
       "       30.54875088, 35.59969291, 29.43228472, 27.51751996, 30.09717253,\n",
       "       23.82507482, 33.39398213, 32.52651259, 46.33345147, 30.51852452,\n",
       "       29.37046829, 35.15372007, 48.68441104, 41.05284842, 38.80858184,\n",
       "       26.31903175, 43.26397547, 37.25240299, 36.75692066, 18.21431221,\n",
       "       44.71496029, 27.8579805 , 35.46806465, 25.36351026, 34.92377062,\n",
       "       32.976887  , 24.94823683, 21.91774115, 34.39791507, 24.60859214,\n",
       "       30.02189644, 29.96063698, 28.53269566, 40.7310923 , 32.8031873 ,\n",
       "       27.15570521, 31.09311098, 25.78402358, 27.95964902, 27.28728409,\n",
       "       28.83131506, 33.92667522, 41.24088042, 36.64812194, 46.31155886,\n",
       "       32.97955309, 41.24459802, 26.66198645, 42.83190898, 21.26540932,\n",
       "       29.18589206, 29.31623991, 45.5276474 , 23.95570796, 30.47653728,\n",
       "       31.28831141, 28.91489707, 30.24714327, 38.55013078, 31.55448295,\n",
       "       39.45496673, 24.79987114, 30.40807382, 30.20718201, 42.75315774,\n",
       "       49.58437988, 36.33774093, 29.11898605, 36.44218446, 28.49688442,\n",
       "       27.31836188, 35.83868201, 41.7645229 , 26.02693755, 29.94804748,\n",
       "       30.49652248, 32.50805345, 27.43126421, 46.83358497, 24.97237698,\n",
       "       24.4793208 , 26.87679601, 34.43567046, 30.43071945, 26.61667245,\n",
       "       28.23701386, 26.74219826, 26.85455353, 51.17388259, 29.40265308,\n",
       "       50.07869524, 33.31077116, 44.83286881, 42.66518194, 34.51173579,\n",
       "       26.8849683 , 37.09745816, 43.0206594 , 32.66280043, 44.56018423,\n",
       "       39.18015355, 26.95472196, 43.44438714, 32.75724605, 41.09789155,\n",
       "       44.19975411, 48.23561317, 25.46865972, 31.73832908, 27.19177929,\n",
       "       23.87302601, 29.23194025, 22.57964279, 36.70376705, 40.27675244,\n",
       "       30.26388129, 33.98026378, 26.00291252, 29.73075524, 28.84373672,\n",
       "       42.35741733, 57.55018973, 29.15881888, 36.67642859, 28.94861124,\n",
       "       40.34388729, 35.79833688, 20.00618096, 36.17415   , 34.83271833,\n",
       "       29.8370204 , 37.8233287 , 33.48317495, 25.20944094, 33.46589664,\n",
       "       34.06311789, 38.74773143, 26.99503412, 47.77894631, 26.24798219,\n",
       "       33.22695417, 36.33936853, 42.50622807, 25.83834752, 32.79343073,\n",
       "       39.15857274, 34.73164422, 42.73834466, 24.24635475, 33.94906352,\n",
       "       33.00097002, 25.8408204 , 29.64549386, 35.68154672, 32.04124131,\n",
       "       32.54247986, 27.85521766, 29.69255641, 38.05174353, 28.09197395,\n",
       "       33.32091011, 43.82118528, 34.27508029, 26.94680613, 31.5935248 ,\n",
       "       30.1192321 , 28.35327559, 36.64977962, 27.36719459, 29.14327705,\n",
       "       44.64826152, 27.85756976, 26.53931474, 47.67794471, 51.34887021,\n",
       "       46.09812973, 31.33704854, 24.29699116, 35.99070989, 41.14623606,\n",
       "       36.5064509 , 27.89344156, 30.40161755, 29.27086995, 43.11880757,\n",
       "       29.34718275, 40.8019083 , 28.86681136, 29.6953199 , 45.97602863,\n",
       "       26.56593933, 45.32051051, 40.93657706, 40.51167451, 30.05403555,\n",
       "       35.34335186, 29.70747035, 26.13978366])"
      ]
     },
     "execution_count": 38,
     "metadata": {},
     "output_type": "execute_result"
    }
   ],
   "source": [
    "reg.predict(diabetes[['Pregnancies', 'Glucose','BloodPressure','SkinThickness','Insulin','BMI']])"
   ]
  },
  {
   "cell_type": "code",
   "execution_count": null,
   "id": "147fc7cc",
   "metadata": {},
   "outputs": [],
   "source": []
  }
 ],
 "metadata": {
  "kernelspec": {
   "display_name": "Python 3",
   "language": "python",
   "name": "python3"
  },
  "language_info": {
   "codemirror_mode": {
    "name": "ipython",
    "version": 3
   },
   "file_extension": ".py",
   "mimetype": "text/x-python",
   "name": "python",
   "nbconvert_exporter": "python",
   "pygments_lexer": "ipython3",
   "version": "3.8.8"
  }
 },
 "nbformat": 4,
 "nbformat_minor": 5
}
